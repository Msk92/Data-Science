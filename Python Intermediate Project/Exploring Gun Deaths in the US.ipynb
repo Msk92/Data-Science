{
 "cells": [
  {
   "cell_type": "code",
   "execution_count": 28,
   "metadata": {
    "collapsed": true
   },
   "outputs": [],
   "source": [
    "import csv\n",
    "import datetime"
   ]
  },
  {
   "cell_type": "markdown",
   "metadata": {},
   "source": [
    "### Reading data from CSV file"
   ]
  },
  {
   "cell_type": "code",
   "execution_count": 29,
   "metadata": {
    "collapsed": false
   },
   "outputs": [
    {
     "name": "stdout",
     "output_type": "stream",
     "text": [
      "[['', 'year', 'month', 'intent', 'police', 'sex', 'age', 'race', 'hispanic', 'place', 'education'], ['1', '2012', '01', 'Suicide', '0', 'M', '34', 'Asian/Pacific Islander', '100', 'Home', '4'], ['2', '2012', '01', 'Suicide', '0', 'F', '21', 'White', '100', 'Street', '3'], ['3', '2012', '01', 'Suicide', '0', 'M', '60', 'White', '100', 'Other specified', '4'], ['4', '2012', '02', 'Suicide', '0', 'M', '64', 'White', '100', 'Home', '4']]\n"
     ]
    }
   ],
   "source": [
    "data = list(csv.reader(open(\"guns.csv\")))\n",
    "print(data[:5])"
   ]
  },
  {
   "cell_type": "markdown",
   "metadata": {},
   "source": [
    "### Removing Header"
   ]
  },
  {
   "cell_type": "code",
   "execution_count": 30,
   "metadata": {
    "collapsed": false
   },
   "outputs": [
    {
     "name": "stdout",
     "output_type": "stream",
     "text": [
      "[['1', '2012', '01', 'Suicide', '0', 'M', '34', 'Asian/Pacific Islander', '100', 'Home', '4'], ['2', '2012', '01', 'Suicide', '0', 'F', '21', 'White', '100', 'Street', '3'], ['3', '2012', '01', 'Suicide', '0', 'M', '60', 'White', '100', 'Other specified', '4'], ['4', '2012', '02', 'Suicide', '0', 'M', '64', 'White', '100', 'Home', '4'], ['5', '2012', '02', 'Suicide', '0', 'M', '31', 'White', '100', 'Other specified', '2']]\n"
     ]
    }
   ],
   "source": [
    "headers = data[0]\n",
    "data = data[1:]\n",
    "print(data[:5])"
   ]
  },
  {
   "cell_type": "markdown",
   "metadata": {},
   "source": [
    "### Function to calculate deaths by given column"
   ]
  },
  {
   "cell_type": "code",
   "execution_count": 31,
   "metadata": {
    "collapsed": true
   },
   "outputs": [],
   "source": [
    "def death_count_by_column(column, dictionary):\n",
    "    for item in column:\n",
    "        if item in dictionary:\n",
    "            dictionary[item] +=1\n",
    "        else:\n",
    "            dictionary[item] = 1\n",
    "    return dictionary"
   ]
  },
  {
   "cell_type": "markdown",
   "metadata": {},
   "source": [
    "### Gun Deaths by year"
   ]
  },
  {
   "cell_type": "code",
   "execution_count": 32,
   "metadata": {
    "collapsed": false
   },
   "outputs": [
    {
     "name": "stdout",
     "output_type": "stream",
     "text": [
      "{'2012': 33563, '2014': 33599, '2013': 33636}\n"
     ]
    }
   ],
   "source": [
    "years = [row[1] for row in data]\n",
    "year_counts = {}\n",
    "print(death_count_by_column(years, year_counts))"
   ]
  },
  {
   "cell_type": "markdown",
   "metadata": {},
   "source": [
    "### Gun Deaths by each year's month"
   ]
  },
  {
   "cell_type": "code",
   "execution_count": 33,
   "metadata": {
    "collapsed": false
   },
   "outputs": [
    {
     "name": "stdout",
     "output_type": "stream",
     "text": [
      "{datetime.datetime(2014, 11, 1, 0, 0): 2756, datetime.datetime(2012, 2, 1, 0, 0): 2357, datetime.datetime(2014, 1, 1, 0, 0): 2651, datetime.datetime(2014, 12, 1, 0, 0): 2857, datetime.datetime(2014, 8, 1, 0, 0): 2970, datetime.datetime(2012, 11, 1, 0, 0): 2729, datetime.datetime(2012, 6, 1, 0, 0): 2826, datetime.datetime(2013, 6, 1, 0, 0): 2920, datetime.datetime(2013, 1, 1, 0, 0): 2864, datetime.datetime(2014, 3, 1, 0, 0): 2684, datetime.datetime(2014, 4, 1, 0, 0): 2862, datetime.datetime(2013, 3, 1, 0, 0): 2862, datetime.datetime(2012, 9, 1, 0, 0): 2852, datetime.datetime(2012, 4, 1, 0, 0): 2795, datetime.datetime(2012, 12, 1, 0, 0): 2791, datetime.datetime(2013, 11, 1, 0, 0): 2758, datetime.datetime(2014, 9, 1, 0, 0): 2914, datetime.datetime(2014, 5, 1, 0, 0): 2864, datetime.datetime(2012, 10, 1, 0, 0): 2733, datetime.datetime(2013, 10, 1, 0, 0): 2808, datetime.datetime(2012, 3, 1, 0, 0): 2743, datetime.datetime(2013, 5, 1, 0, 0): 2806, datetime.datetime(2014, 6, 1, 0, 0): 2931, datetime.datetime(2013, 9, 1, 0, 0): 2742, datetime.datetime(2012, 5, 1, 0, 0): 2999, datetime.datetime(2014, 10, 1, 0, 0): 2865, datetime.datetime(2013, 7, 1, 0, 0): 3079, datetime.datetime(2013, 4, 1, 0, 0): 2798, datetime.datetime(2013, 12, 1, 0, 0): 2765, datetime.datetime(2013, 8, 1, 0, 0): 2859, datetime.datetime(2012, 7, 1, 0, 0): 3026, datetime.datetime(2012, 8, 1, 0, 0): 2954, datetime.datetime(2014, 7, 1, 0, 0): 2884, datetime.datetime(2013, 2, 1, 0, 0): 2375, datetime.datetime(2012, 1, 1, 0, 0): 2758, datetime.datetime(2014, 2, 1, 0, 0): 2361}\n"
     ]
    }
   ],
   "source": [
    "dates = [datetime.datetime(year = int(row[1]), month = int(row[2]), day = 1) for row in data]\n",
    "date_counts = {}\n",
    "print(death_count_by_column(dates, date_counts))"
   ]
  },
  {
   "cell_type": "markdown",
   "metadata": {},
   "source": [
    "### Gun Deaths by Sex"
   ]
  },
  {
   "cell_type": "code",
   "execution_count": 34,
   "metadata": {
    "collapsed": false
   },
   "outputs": [
    {
     "name": "stdout",
     "output_type": "stream",
     "text": [
      "{'F': 14449, 'M': 86349}\n"
     ]
    }
   ],
   "source": [
    "sex_counts = {}\n",
    "sexes = [row[5] for row  in data]\n",
    "print(death_count_by_column(sexes, sex_counts))"
   ]
  },
  {
   "cell_type": "markdown",
   "metadata": {},
   "source": [
    "### Gun Deaths by Race"
   ]
  },
  {
   "cell_type": "code",
   "execution_count": 35,
   "metadata": {
    "collapsed": false
   },
   "outputs": [
    {
     "name": "stdout",
     "output_type": "stream",
     "text": [
      "{'Hispanic': 9022, 'White': 66237, 'Black': 23296, 'Asian/Pacific Islander': 1326, 'Native American/Native Alaskan': 917}\n"
     ]
    }
   ],
   "source": [
    "race_counts = {}\n",
    "races = [row[7] for row in data]\n",
    "print(death_count_by_column(races, race_counts))"
   ]
  },
  {
   "cell_type": "markdown",
   "metadata": {},
   "source": [
    "### Following patterns have been noticed by the analysis so far:\n",
    "- The rate of gun deaths between years remains somewhat constant\n",
    "\n",
    "- On average more than 2500 gun deaths occured each month from year  2012 to 2014\n",
    "\n",
    "- Number of gun deaths are much higher for men than women\n",
    "\n",
    "- Gun deaths were highest among people of white race followed by Black, Hispanic, Asian/Pacific Islander and lastly Native American/Native Alaskan"
   ]
  },
  {
   "cell_type": "markdown",
   "metadata": {
    "collapsed": true
   },
   "source": [
    "### Reading Census Data"
   ]
  },
  {
   "cell_type": "code",
   "execution_count": 36,
   "metadata": {
    "collapsed": false
   },
   "outputs": [
    {
     "name": "stdout",
     "output_type": "stream",
     "text": [
      "[['Id', 'Year', 'Id', 'Sex', 'Id', 'Hispanic Origin', 'Id', 'Id2', 'Geography', 'Total', 'Race Alone - White', 'Race Alone - Hispanic', 'Race Alone - Black or African American', 'Race Alone - American Indian and Alaska Native', 'Race Alone - Asian', 'Race Alone - Native Hawaiian and Other Pacific Islander', 'Two or More Races'], ['cen42010', 'April 1, 2010 Census', 'totsex', 'Both Sexes', 'tothisp', 'Total', '0100000US', '', 'United States', '308745538', '197318956', '44618105', '40250635', '3739506', '15159516', '674625', '6984195']]\n"
     ]
    }
   ],
   "source": [
    "census = list( csv.reader(open(\"census.csv\")))\n",
    "print(census)"
   ]
  },
  {
   "cell_type": "markdown",
   "metadata": {},
   "source": [
    "### Creating a common dicitionary for population of each race"
   ]
  },
  {
   "cell_type": "code",
   "execution_count": 37,
   "metadata": {
    "collapsed": false
   },
   "outputs": [],
   "source": [
    "mapping = {\"Asian/Pacific Islander\":0, \"Black\":0,\"Native American/Native Alaskan\":0,\"Hispanic\":0,\"White\":0}\n",
    "for race in census[0]:\n",
    "    if race == \"Race Alone - Asian\" or race == \"Race Alone - Native Hawaiian and Other Pacific Islander\":\n",
    "        mapping[\"Asian/Pacific Islander\"] += int(census[1][census[0].index(race)])\n",
    "    elif race == \"Race Alone - Black or African American\":\n",
    "        mapping[\"Black\"] += int(census[1][census[0].index(race)])\n",
    "    elif race == \"Race Alone - Hispanic\":\n",
    "        mapping[\"Hispanic\"] += int(census[1][census[0].index(race)])\n",
    "    elif race == \"Race Alone - American Indian and Alaska Native\":\n",
    "        mapping[\"Native American/Native Alaskan\"] += int(census[1][census[0].index(race)])\n",
    "    elif race == \"Race Alone - White\":\n",
    "        mapping[\"White\"] += int(census[1][census[0].index(race)])"
   ]
  },
  {
   "cell_type": "code",
   "execution_count": 38,
   "metadata": {
    "collapsed": false
   },
   "outputs": [
    {
     "name": "stdout",
     "output_type": "stream",
     "text": [
      "{'Native American/Native Alaskan': 3739506, 'White': 197318956, 'Black': 40250635, 'Asian/Pacific Islander': 15834141, 'Hispanic': 44618105}\n"
     ]
    }
   ],
   "source": [
    "print (mapping)"
   ]
  },
  {
   "cell_type": "markdown",
   "metadata": {},
   "source": [
    "### Gun Deaths in a Race per 100k people"
   ]
  },
  {
   "cell_type": "code",
   "execution_count": 39,
   "metadata": {
    "collapsed": false
   },
   "outputs": [
    {
     "name": "stdout",
     "output_type": "stream",
     "text": [
      "{'Native American/Native Alaskan': 24.521955573811088, 'Hispanic': 20.220491210910907, 'Asian/Pacific Islander': 8.374309664161762, 'Black': 57.8773477735196, 'White': 33.56849303419181}\n"
     ]
    }
   ],
   "source": [
    "race_per_hundredk = {}\n",
    "for item in race_counts:\n",
    "    race_per_hundredk[item] = race_counts[item]/mapping[item] * 100000\n",
    "print(race_per_hundredk)"
   ]
  },
  {
   "cell_type": "markdown",
   "metadata": {},
   "source": [
    "### Number of Gun Deaths in a Race by Homicide"
   ]
  },
  {
   "cell_type": "code",
   "execution_count": 40,
   "metadata": {
    "collapsed": false
   },
   "outputs": [
    {
     "name": "stdout",
     "output_type": "stream",
     "text": [
      "{'Hispanic': 5634, 'White': 9147, 'Black': 19510, 'Asian/Pacific Islander': 559, 'Native American/Native Alaskan': 326}\n"
     ]
    }
   ],
   "source": [
    "intents = [row[3] for row in data]\n",
    "homicide_race_counts = {}\n",
    "for i,race in enumerate(races):\n",
    "    if intents[i] == \"Homicide\":\n",
    "        if race in homicide_race_counts:\n",
    "            homicide_race_counts[race] += 1\n",
    "        else:\n",
    "            homicide_race_counts[race] = 1\n",
    "print(homicide_race_counts)"
   ]
  },
  {
   "cell_type": "markdown",
   "metadata": {},
   "source": [
    "### Deaths in a race per 100k people by Homicide"
   ]
  },
  {
   "cell_type": "code",
   "execution_count": 41,
   "metadata": {
    "collapsed": false
   },
   "outputs": [
    {
     "name": "stdout",
     "output_type": "stream",
     "text": [
      "{'Native American/Native Alaskan': 8.717729026240365, 'Hispanic': 12.627161104219914, 'Asian/Pacific Islander': 3.530346230970155, 'Black': 48.471284987180944, 'White': 4.6356417981453335}\n"
     ]
    }
   ],
   "source": [
    "race_per_hundredk = {}\n",
    "for item in homicide_race_counts:\n",
    "    race_per_hundredk[item] = homicide_race_counts[item]/mapping[item] * 100000\n",
    "print(race_per_hundredk)"
   ]
  },
  {
   "cell_type": "markdown",
   "metadata": {},
   "source": [
    "## Findings:\n",
    "- Gun related Homicides are higher in people of Black race followed by people of Hispanic race."
   ]
  },
  {
   "cell_type": "markdown",
   "metadata": {},
   "source": [
    "### Number of Homicides per month"
   ]
  },
  {
   "cell_type": "code",
   "execution_count": 42,
   "metadata": {
    "collapsed": false
   },
   "outputs": [
    {
     "data": {
      "text/plain": [
       "{datetime.datetime(2012, 1, 1, 0, 0): 972,\n",
       " datetime.datetime(2012, 2, 1, 0, 0): 749,\n",
       " datetime.datetime(2012, 3, 1, 0, 0): 966,\n",
       " datetime.datetime(2012, 4, 1, 0, 0): 999,\n",
       " datetime.datetime(2012, 5, 1, 0, 0): 1003,\n",
       " datetime.datetime(2012, 6, 1, 0, 0): 1044,\n",
       " datetime.datetime(2012, 7, 1, 0, 0): 1160,\n",
       " datetime.datetime(2012, 8, 1, 0, 0): 1090,\n",
       " datetime.datetime(2012, 9, 1, 0, 0): 1070,\n",
       " datetime.datetime(2012, 10, 1, 0, 0): 979,\n",
       " datetime.datetime(2012, 11, 1, 0, 0): 978,\n",
       " datetime.datetime(2012, 12, 1, 0, 0): 1083,\n",
       " datetime.datetime(2013, 1, 1, 0, 0): 986,\n",
       " datetime.datetime(2013, 2, 1, 0, 0): 721,\n",
       " datetime.datetime(2013, 3, 1, 0, 0): 923,\n",
       " datetime.datetime(2013, 4, 1, 0, 0): 916,\n",
       " datetime.datetime(2013, 5, 1, 0, 0): 955,\n",
       " datetime.datetime(2013, 6, 1, 0, 0): 1066,\n",
       " datetime.datetime(2013, 7, 1, 0, 0): 1137,\n",
       " datetime.datetime(2013, 8, 1, 0, 0): 1000,\n",
       " datetime.datetime(2013, 9, 1, 0, 0): 954,\n",
       " datetime.datetime(2013, 10, 1, 0, 0): 1009,\n",
       " datetime.datetime(2013, 11, 1, 0, 0): 979,\n",
       " datetime.datetime(2013, 12, 1, 0, 0): 1028,\n",
       " datetime.datetime(2014, 1, 1, 0, 0): 871,\n",
       " datetime.datetime(2014, 2, 1, 0, 0): 708,\n",
       " datetime.datetime(2014, 3, 1, 0, 0): 891,\n",
       " datetime.datetime(2014, 4, 1, 0, 0): 930,\n",
       " datetime.datetime(2014, 5, 1, 0, 0): 1018,\n",
       " datetime.datetime(2014, 6, 1, 0, 0): 1020,\n",
       " datetime.datetime(2014, 7, 1, 0, 0): 972,\n",
       " datetime.datetime(2014, 8, 1, 0, 0): 1035,\n",
       " datetime.datetime(2014, 9, 1, 0, 0): 942,\n",
       " datetime.datetime(2014, 10, 1, 0, 0): 980,\n",
       " datetime.datetime(2014, 11, 1, 0, 0): 962,\n",
       " datetime.datetime(2014, 12, 1, 0, 0): 1080}"
      ]
     },
     "execution_count": 42,
     "metadata": {},
     "output_type": "execute_result"
    }
   ],
   "source": [
    "homicide_date_counts = {}\n",
    "for i,date in enumerate(dates):\n",
    "    if intents[i] == \"Homicide\":\n",
    "        if date in homicide_date_counts:\n",
    "            homicide_date_counts[date] += 1\n",
    "        else:\n",
    "            homicide_date_counts[date] = 1\n",
    "homicide_date_counts"
   ]
  },
  {
   "cell_type": "markdown",
   "metadata": {},
   "source": [
    "## Finding:\n",
    "Number of Homicides increase arround the mid of each year i.e from May to August."
   ]
  },
  {
   "cell_type": "markdown",
   "metadata": {},
   "source": [
    "### Number of Homicides per Gender"
   ]
  },
  {
   "cell_type": "code",
   "execution_count": 43,
   "metadata": {
    "collapsed": false
   },
   "outputs": [
    {
     "data": {
      "text/plain": [
       "{'F': 5373, 'M': 29803}"
      ]
     },
     "execution_count": 43,
     "metadata": {},
     "output_type": "execute_result"
    }
   ],
   "source": [
    "homicide_gender_counts = {}\n",
    "for i,sex in enumerate(sexes):\n",
    "    if intents[i] == \"Homicide\":\n",
    "        if sex in homicide_gender_counts:\n",
    "            homicide_gender_counts[sex] += 1\n",
    "        else:\n",
    "            homicide_gender_counts[sex] = 1\n",
    "homicide_gender_counts"
   ]
  },
  {
   "cell_type": "markdown",
   "metadata": {},
   "source": [
    "### Number of Accidental deaths per Race."
   ]
  },
  {
   "cell_type": "code",
   "execution_count": 44,
   "metadata": {
    "collapsed": false
   },
   "outputs": [
    {
     "name": "stdout",
     "output_type": "stream",
     "text": [
      "{'Native American/Native Alaskan': 22, 'White': 1132, 'Asian/Pacific Islander': 12, 'Black': 328, 'Hispanic': 145}\n"
     ]
    }
   ],
   "source": [
    "intents = [row[3] for row in data]\n",
    "accidental_race_counts = {}\n",
    "for i,race in enumerate(races):\n",
    "    if intents[i] == \"Accidental\":\n",
    "        if race in accidental_race_counts:\n",
    "            accidental_race_counts[race] += 1\n",
    "        else:\n",
    "            accidental_race_counts[race] = 1\n",
    "print(accidental_race_counts)"
   ]
  },
  {
   "cell_type": "markdown",
   "metadata": {},
   "source": [
    "### Number of Accidental deaths per Gender."
   ]
  },
  {
   "cell_type": "code",
   "execution_count": 45,
   "metadata": {
    "collapsed": false
   },
   "outputs": [
    {
     "data": {
      "text/plain": [
       "{'F': 218, 'M': 1421}"
      ]
     },
     "execution_count": 45,
     "metadata": {},
     "output_type": "execute_result"
    }
   ],
   "source": [
    "accidental_gender_counts = {}\n",
    "for i,sex in enumerate(sexes):\n",
    "    if intents[i] == \"Accidental\":\n",
    "        if sex in accidental_gender_counts:\n",
    "            accidental_gender_counts[sex] += 1\n",
    "        else:\n",
    "            accidental_gender_counts[sex] = 1\n",
    "accidental_gender_counts"
   ]
  },
  {
   "cell_type": "markdown",
   "metadata": {},
   "source": [
    "### Gun deaths by palce of incident"
   ]
  },
  {
   "cell_type": "code",
   "execution_count": 46,
   "metadata": {
    "collapsed": false
   },
   "outputs": [
    {
     "data": {
      "text/plain": [
       "{'Farm': 470,\n",
       " 'Home': 60486,\n",
       " 'Industrial/construction': 248,\n",
       " 'NA': 1384,\n",
       " 'Other specified': 13751,\n",
       " 'Other unspecified': 8867,\n",
       " 'Residential institution': 203,\n",
       " 'School/instiution': 671,\n",
       " 'Sports': 128,\n",
       " 'Street': 11151,\n",
       " 'Trade/service area': 3439}"
      ]
     },
     "execution_count": 46,
     "metadata": {},
     "output_type": "execute_result"
    }
   ],
   "source": [
    "place_counts = {}\n",
    "place = [row[9] for row in data]\n",
    "death_count_by_column(place, place_counts)"
   ]
  },
  {
   "cell_type": "markdown",
   "metadata": {},
   "source": [
    "## Finding:\n",
    "Most of the gun deaths occured at people's Home and the least at Sports."
   ]
  },
  {
   "cell_type": "markdown",
   "metadata": {},
   "source": [
    "### Gun deaths by Education"
   ]
  },
  {
   "cell_type": "code",
   "execution_count": 47,
   "metadata": {
    "collapsed": false
   },
   "outputs": [
    {
     "data": {
      "text/plain": [
       "{'1': 21823, '2': 42927, '3': 21680, '4': 12946, '5': 1369, 'NA': 53}"
      ]
     },
     "execution_count": 47,
     "metadata": {},
     "output_type": "execute_result"
    }
   ],
   "source": [
    "education_counts = {}\n",
    "education = [row[10] for row in data]\n",
    "death_count_by_column(education, education_counts)"
   ]
  },
  {
   "cell_type": "markdown",
   "metadata": {},
   "source": [
    "## Finding\n",
    "Number of deaths appear to deacrease as the level of education increased but this patttern does not hold with the group of people with level 2 education."
   ]
  },
  {
   "cell_type": "code",
   "execution_count": null,
   "metadata": {
    "collapsed": true
   },
   "outputs": [],
   "source": []
  }
 ],
 "metadata": {
  "kernelspec": {
   "display_name": "Python 3",
   "language": "python",
   "name": "python3"
  },
  "language_info": {
   "codemirror_mode": {
    "name": "ipython",
    "version": 3
   },
   "file_extension": ".py",
   "mimetype": "text/x-python",
   "name": "python",
   "nbconvert_exporter": "python",
   "pygments_lexer": "ipython3",
   "version": "3.4.3"
  }
 },
 "nbformat": 4,
 "nbformat_minor": 0
}
